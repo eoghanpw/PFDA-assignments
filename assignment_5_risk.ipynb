{
 "cells": [
  {
   "cell_type": "markdown",
   "metadata": {},
   "source": [
    "# Assignment 5 - Risk\n",
    "\n",
    "This program simulates 1000 individual battle rounds in the game Risk (3 attacker vs 2 defender) and plots the result.\n",
    "\n",
    "*by Eoghan Walsh*"
   ]
  },
  {
   "cell_type": "code",
   "execution_count": null,
   "metadata": {},
   "outputs": [
    {
     "name": "stdout",
     "output_type": "stream",
     "text": [
      "[3 5 6] [2 5]\n",
      "Defender lost\n",
      "Defender lost\n",
      "Attacker losses: 0, Defender losses: 2\n"
     ]
    }
   ],
   "source": [
    "# Import numpy and matplotlib modules.\n",
    "'''\n",
    "import numpy as np\n",
    "import matplotlib.pyplot as plt\n",
    "\n",
    "rng = np.random.default_rng()\n",
    "\n",
    "attack_roll = np.sort(rng.integers(low=1, high=7, size=3))\n",
    "defend_roll = np.sort(rng.integers(low=1, high=7, size=2))\n",
    "\n",
    "print(attack_roll, defend_roll)\n",
    "\n",
    "attacker_losses = 0\n",
    "defender_losses = 0\n",
    "\n",
    "if attack_roll[2] > defend_roll[1]:\n",
    "    print(\"Defender lost\")\n",
    "    defender_losses += 1\n",
    "else:\n",
    "    print(\"Attacker lost\")\n",
    "    attacker_losses += 1\n",
    "\n",
    "if attack_roll[1] > defend_roll[0]:\n",
    "    print(\"Defender lost\")\n",
    "    defender_losses += 1\n",
    "else:\n",
    "    print(\"Attacker lost\")\n",
    "    attacker_losses += 1\n",
    "\n",
    "print(f\"Attacker losses: {attacker_losses}, Defender losses: {defender_losses}\")\n",
    "'''\n"
   ]
  },
  {
   "cell_type": "code",
   "execution_count": 142,
   "metadata": {},
   "outputs": [
    {
     "name": "stdout",
     "output_type": "stream",
     "text": [
      "[[ True  True]\n",
      " [ True False]\n",
      " [ True  True]\n",
      " [False False]\n",
      " [ True False]\n",
      " [False False]\n",
      " [ True  True]\n",
      " [ True False]\n",
      " [ True False]\n",
      " [False  True]]\n",
      "9 11\n"
     ]
    },
    {
     "data": {
      "text/plain": [
       "[<matplotlib.lines.Line2D at 0x19e708abfb0>,\n",
       " <matplotlib.lines.Line2D at 0x19e70c79970>]"
      ]
     },
     "execution_count": 142,
     "metadata": {},
     "output_type": "execute_result"
    },
    {
     "data": {
      "image/png": "[encoded data removed]",
      "text/plain": [
       "<Figure size 640x480 with 1 Axes>"
      ]
     },
     "metadata": {},
     "output_type": "display_data"
    }
   ],
   "source": [
    "# Import numpy an matplotlib modules.\n",
    "import numpy as np\n",
    "import matplotlib.pyplot as plt\n",
    "\n",
    "# Random number generator.\n",
    "rng = np.random.default_rng()\n",
    "\n",
    "# Number of rolls per battle and number of battles.\n",
    "attack_dice_rolls = 3\n",
    "defend_dice_rolls = 2\n",
    "number_of_battles = 10\n",
    "\n",
    "# Generate numpy arrays for each battle and sort integers in ascending order.\n",
    "# Ref: https://www.w3schools.com/python/numpy/numpy_array_sort.asp\n",
    "# Ref: https://realpython.com/numpy-random-number-generator/#random-integer-numbers\n",
    "\n",
    "attack_roll = np.sort(rng.integers(low=1, high=7, size=(number_of_battles,attack_dice_rolls)))\n",
    "defend_roll = np.sort(rng.integers(low=1, high=7, size=(number_of_battles,defend_dice_rolls)))\n",
    "\n",
    "# Remove the low number in each attack roll.\n",
    "attack_roll_top_2 = attack_roll[:number_of_battles,1:]\n",
    "\n",
    "# If the attack roll has to be greater than defend roll to win.\n",
    "result = attack_roll_top_2 > defend_roll\n",
    "\n",
    "print(result)\n",
    "\n",
    "attacker_losses = 0\n",
    "defender_losses = 0\n",
    "\n",
    "for x in result:\n",
    "    for y in x:\n",
    "        if y == True:\n",
    "            defender_losses += 1\n",
    "        else:\n",
    "            attacker_losses += 1\n",
    "\n",
    "\n",
    "\n",
    "print(attacker_losses, defender_losses)\n",
    "\n",
    "plt.plot(result, \"o\")\n",
    "        "
   ]
  }
 ],
 "metadata": {
  "kernelspec": {
   "display_name": "base",
   "language": "python",
   "name": "python3"
  },
  "language_info": {
   "codemirror_mode": {
    "name": "ipython",
    "version": 3
   },
   "file_extension": ".py",
   "mimetype": "text/x-python",
   "name": "python",
   "nbconvert_exporter": "python",
   "pygments_lexer": "ipython3",
   "version": "3.12.4"
  }
 },
 "nbformat": 4,
 "nbformat_minor": 2
}
