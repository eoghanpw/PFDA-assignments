{
 "cells": [
  {
   "cell_type": "markdown",
   "metadata": {},
   "source": [
    "# Assignment 5 - Risk\n",
    "\n",
    "This program simulates 1000 individual battle rounds in the game Risk (3 attacker vs 2 defender) and plots the result.\n",
    "\n",
    "*by Eoghan Walsh*"
   ]
  },
  {
   "cell_type": "code",
   "execution_count": 1,
   "metadata": {},
   "outputs": [
    {
     "data": {
      "text/plain": [
       "'\\nimport numpy as np\\nimport matplotlib.pyplot as plt\\n\\nrng = np.random.default_rng()\\n\\nattack_roll = np.sort(rng.integers(low=1, high=7, size=3))\\ndefend_roll = np.sort(rng.integers(low=1, high=7, size=2))\\n\\nprint(attack_roll, defend_roll)\\n\\nattacker_losses = 0\\ndefender_losses = 0\\n\\nif attack_roll[2] > defend_roll[1]:\\n    print(\"Defender lost\")\\n    defender_losses += 1\\nelse:\\n    print(\"Attacker lost\")\\n    attacker_losses += 1\\n\\nif attack_roll[1] > defend_roll[0]:\\n    print(\"Defender lost\")\\n    defender_losses += 1\\nelse:\\n    print(\"Attacker lost\")\\n    attacker_losses += 1\\n\\nprint(f\"Attacker losses: {attacker_losses}, Defender losses: {defender_losses}\")\\n'"
      ]
     },
     "execution_count": 1,
     "metadata": {},
     "output_type": "execute_result"
    }
   ],
   "source": [
    "# Import numpy and matplotlib modules.\n",
    "'''\n",
    "import numpy as np\n",
    "import matplotlib.pyplot as plt\n",
    "\n",
    "rng = np.random.default_rng()\n",
    "\n",
    "attack_roll = np.sort(rng.integers(low=1, high=7, size=3))\n",
    "defend_roll = np.sort(rng.integers(low=1, high=7, size=2))\n",
    "\n",
    "print(attack_roll, defend_roll)\n",
    "\n",
    "attacker_losses = 0\n",
    "defender_losses = 0\n",
    "\n",
    "if attack_roll[2] > defend_roll[1]:\n",
    "    print(\"Defender lost\")\n",
    "    defender_losses += 1\n",
    "else:\n",
    "    print(\"Attacker lost\")\n",
    "    attacker_losses += 1\n",
    "\n",
    "if attack_roll[1] > defend_roll[0]:\n",
    "    print(\"Defender lost\")\n",
    "    defender_losses += 1\n",
    "else:\n",
    "    print(\"Attacker lost\")\n",
    "    attacker_losses += 1\n",
    "\n",
    "print(f\"Attacker losses: {attacker_losses}, Defender losses: {defender_losses}\")\n",
    "'''\n"
   ]
  },
  {
   "cell_type": "code",
   "execution_count": 110,
   "metadata": {},
   "outputs": [
    {
     "name": "stdout",
     "output_type": "stream",
     "text": [
      "[[ True  True]\n",
      " [False False]\n",
      " [ True False]\n",
      " [ True  True]\n",
      " [ True  True]]\n",
      "7 3\n",
      "[2 0 1 2 2] [0 2 1 0 0]\n",
      "[0 2 2 3 5 7] [0 0 2 3 3 3]\n",
      "[2 2 3 5 7] [0 2 3 3 3]\n"
     ]
    },
    {
     "data": {
      "image/png": "[encoded data removed]",
      "text/plain": [
       "<Figure size 200x200 with 1 Axes>"
      ]
     },
     "metadata": {},
     "output_type": "display_data"
    }
   ],
   "source": [
    "# Import numpy an matplotlib modules.\n",
    "import numpy as np\n",
    "import matplotlib.pyplot as plt\n",
    "\n",
    "# Random number generator.\n",
    "rng = np.random.default_rng()\n",
    "\n",
    "# Number of rolls per battle and number of battles.\n",
    "attack_dice_rolls = 3\n",
    "defend_dice_rolls = 2\n",
    "number_of_battles = 5\n",
    "\n",
    "\n",
    "# Generate numpy arrays for each battle and sort integers in ascending order.\n",
    "# Ref: https://www.w3schools.com/python/numpy/numpy_array_sort.asp\n",
    "# Ref: https://realpython.com/numpy-random-number-generator/#random-integer-numbers\n",
    "\n",
    "attack_roll = np.sort(rng.integers(low=1, high=7, size=(number_of_battles,attack_dice_rolls)))\n",
    "defend_roll = np.sort(rng.integers(low=1, high=7, size=(number_of_battles,defend_dice_rolls)))\n",
    "\n",
    "# Slice the array to remove the low number in each attack roll.\n",
    "attack_roll_top_2 = attack_roll[:number_of_battles,1:]\n",
    "\n",
    "# The attack roll has to be greater than defend roll to win.\n",
    "result = attack_roll_top_2 > defend_roll\n",
    "\n",
    "print(result)\n",
    "\n",
    "# Total attacker wins\n",
    "# https://wesmckinney.com/book/numpy-basics#ndarray_statistics\n",
    "attacker_wins = (result > 0).sum()\n",
    "defender_wins = ((number_of_battles * 2) - attacker_wins)\n",
    "print(attacker_wins, defender_wins)\n",
    "\n",
    "# Sum the attacker wins per battle\n",
    "total_attacker_wins = np.sum(result, axis=1)\n",
    "\n",
    "total_defender_wins = ((total_attacker_wins - 2) * -1)\n",
    "\n",
    "print(total_attacker_wins, total_defender_wins)\n",
    "\n",
    "# Get a cumulative sum\n",
    "# https://numpy.org/doc/stable/reference/generated/numpy.cumsum.html#numpy-cumsum\n",
    "test = np.cumsum(total_attacker_wins)\n",
    "test2 = np.cumsum(total_defender_wins)\n",
    "\n",
    "test3 = np.insert(test,0,0)\n",
    "test4 = np.insert(test2,0,0)\n",
    "print(test3, test4)\n",
    "\n",
    "print(test, test2)\n",
    "\n",
    "fig, ax = plt.subplots()\n",
    "\n",
    "x = np.arange(0,(number_of_battles + 1), 1)\n",
    "y = np.vstack([test3, test4])\n",
    "\n",
    "ax.stackplot(x, y)\n",
    "\n",
    "ax.set(xlim=(0, number_of_battles + 1), xticks=np.arange(1, number_of_battles + 1),\n",
    "       ylim=(0, ((number_of_battles * 2) + 1)), yticks=np.arange(1, ((number_of_battles * 2) + 1)))\n",
    "\n",
    "plt.show()"
   ]
  }
 ],
 "metadata": {
  "kernelspec": {
   "display_name": "base",
   "language": "python",
   "name": "python3"
  },
  "language_info": {
   "codemirror_mode": {
    "name": "ipython",
    "version": 3
   },
   "file_extension": ".py",
   "mimetype": "text/x-python",
   "name": "python",
   "nbconvert_exporter": "python",
   "pygments_lexer": "ipython3",
   "version": "3.12.4"
  }
 },
 "nbformat": 4,
 "nbformat_minor": 2
}
